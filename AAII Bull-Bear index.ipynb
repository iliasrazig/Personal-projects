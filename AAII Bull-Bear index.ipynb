{
 "cells": [
  {
   "cell_type": "code",
   "execution_count": 67,
   "id": "eb2c532f",
   "metadata": {},
   "outputs": [],
   "source": [
    "#  Import des bibliothèques \n",
    "from bs4 import BeautifulSoup\n",
    "import requests\n",
    "import pandas as pd\n",
    "from plotly.subplots import make_subplots\n",
    "import plotly.graph_objects as go\n",
    "from random import randint\n",
    "from time import sleep\n",
    "import os\n"
   ]
  },
  {
   "attachments": {},
   "cell_type": "markdown",
   "id": "f38919cd",
   "metadata": {},
   "source": [
    "L'American Association of Individual Investors (AAII) réalise depuis 1987 une enquête hebdomadaire sur l'opinion des investisseurs concernant le marché financier pour les six prochains mois. Les résultats permettent de donner un sentiment de marché (parfois utile pour réaliser des décisions d'investissements car les cours de certains actifs sont dépendant du sentiment de marché) et les résultats sont répartis en 3 catégories :\n",
    "- Bull (investisseurs optimistes)\n",
    "- Bear (investisseurs pessimistes)\n",
    "- Neutral (investisseurs neutres)"
   ]
  },
  {
   "cell_type": "code",
   "execution_count": 68,
   "id": "d815367f",
   "metadata": {},
   "outputs": [],
   "source": [
    "def load_results_from_file():\n",
    "    #  On vérifie si le fichier existe déjà dans le dossier actuel \n",
    "    file_name = 'sentiment_results_survey.csv'\n",
    "    # Si c'est le cas on lit le fichier \n",
    "    if os.path.exists(file_name):\n",
    "        df = pd.read_csv(file_name,parse_dates=False)\n",
    "        df = df.sort_index(ascending=False)\n",
    "        return df\n",
    "    else:\n",
    "        return None\n"
   ]
  },
  {
   "cell_type": "code",
   "execution_count": 69,
   "id": "0f0f0162",
   "metadata": {},
   "outputs": [],
   "source": [
    "def retrieve_survey_results(url):\n",
    "    try:\n",
    "        #  On crée une session de navigation web\n",
    "        session = requests.Session()\n",
    "        response = session.get(url)\n",
    "        session_cookies = session.cookies\n",
    "        cookies_dictionary = session_cookies.get_dict()\n",
    "        \n",
    "        #  On récupère les paramètres de cookies\n",
    "        list_from_dict = []\n",
    "        for key in cookies_dictionary:\n",
    "            list_from_dict.append(key)\n",
    "            list_from_dict.append(cookies_dictionary[key])\n",
    "\n",
    "        #  Build cookie\n",
    "        cookie='{}={}; {}={}'.format(list_from_dict[2], list_from_dict[3], list_from_dict[0], list_from_dict[1])\n",
    "        headers = {\n",
    "            'Host': 'www.aaii.com',\n",
    "            'Connection': 'keep-alive',\n",
    "            'Cache-Control': 'max-age=0',\n",
    "            'Upgrade-Insecure-Requests': '1',\n",
    "            'User-Agent': 'Mozilla/5.0 (Windows NT 10.0; Win64; x64; rv:99.0) Gecko/20100101 Firefox/99.0',\n",
    "            'DNT': '1',\n",
    "            'Accept': 'text/html,application/xhtml+xml,application/xml;q=0.9,image/webp,image/apng,*/*;q=0.8',\n",
    "            'Accept-Encoding': 'gzip, deflate, br',\n",
    "            'Accept-Language': 'ru,en-US;q=0.9,en;q=0.8,tr;q=0.7',\n",
    "            'Cookie': '{}'.format(cookie),\n",
    "        }\n",
    "        # On récupère le texte contenu dans l'url \n",
    "        html_text = requests.get(url, headers=headers,timeout=20).text\n",
    "        return html_text\n",
    "    except:\n",
    "        print('Fetch request failed')\n",
    "        return None\n"
   ]
  },
  {
   "cell_type": "code",
   "execution_count": 70,
   "id": "6b8c5314",
   "metadata": {},
   "outputs": [],
   "source": [
    "def process_results(html_text):\n",
    "    # La libraire BeautifulSoup permet de parser le texte que nous avons extrait de la page web\n",
    "    soup = BeautifulSoup(html_text, \"html.parser\")\n",
    "    # On recherche tous les éléments html <tr> qui indiquent chaque ligne du tableau que nous cherchons à importer \n",
    "    results = soup.find_all('tr',{'align': 'center'})\n",
    "    results_df = pd.DataFrame()\n",
    "    for i in range(1, len(results) - 1):\n",
    "        # Pour chaque ligne du tableau on récupère chaque élément html <td> qui indique une cellule du tableau\n",
    "        elements = results[i].find_all('td')\n",
    "        # On place dans une liste la date, puis l'élément de la colonne Bullish, puis l'élément de la colonne Neutral et enfin celui de la colonne Bearish\n",
    "        reported_date =elements[0].getText().strip().replace(':','')\n",
    "\n",
    "        bullish=elements[1].getText().strip().replace('%','')\n",
    "        neutral=elements[2].getText().strip().replace('%','')\n",
    "        bearish=elements[3].getText().strip().replace('%','')\n",
    "        # On crée un dataframe à partir de la liste puis on le concatène avec le dataframe results_df\n",
    "        result_row = pd.DataFrame({\"reported_date\":[reported_date],\"bullish\":[bullish],\"bearish\":[bearish],\"neutral\":[neutral]})\n",
    "        results_df = pd.concat([results_df, result_row], axis=0, ignore_index = True)\n",
    "    results_df = results_df.sort_index(ascending=False)\n",
    "    results_df.iloc[::-1].reset_index(drop=True)\n",
    "    \n",
    "        \n",
    "    return results_df \n",
    "\n"
   ]
  },
  {
   "cell_type": "code",
   "execution_count": 71,
   "id": "81703809",
   "metadata": {},
   "outputs": [],
   "source": [
    "def plot_results(df):\n",
    "    fig = make_subplots(rows=1, cols=1)\n",
    "\n",
    "    #  On graph les données extraites de la page web\n",
    "    fig.add_trace(go.Line(x = df['reported_date'], y = df['neutral'], line=dict(color=\"blue\", width=1), name=\"Neutral\"), row = 1, col = 1)\n",
    "    fig.add_trace(go.Line(x = df['reported_date'], y = df['bullish'], line=dict(color=\"green\", width=1), name=\"Bullish\"), row = 1, col = 1) \n",
    "    fig.add_trace(go.Line(x = df['reported_date'], y = df['bearish'], line=dict(color=\"red\", width=1), name=\"Bearish\"), row = 1, col = 1) \n",
    "    \n",
    "    fig.update_layout(\n",
    "        title={'text':'AAII Sentiment Results', 'x':0.5},\n",
    "        autosize=False,\n",
    "        width=800,height=400)\n",
    "    fig.update_yaxes(range=[0,1000000000],secondary_y=True)\n",
    "    fig.update_yaxes(visible=False, secondary_y=True)  #hide range slider\n",
    "    \n",
    "    fig.show()\n"
   ]
  },
  {
   "cell_type": "code",
   "execution_count": 72,
   "id": "f96a1bbf",
   "metadata": {},
   "outputs": [
    {
     "data": {
      "application/vnd.plotly.v1+json": {
       "config": {
        "plotlyServerURL": "https://plot.ly"
       },
       "data": [
        {
         "line": {
          "color": "blue",
          "width": 1
         },
         "name": "Neutral",
         "type": "scatter",
         "x": [
          "Sep 7",
          "Sep 14",
          "Sep 21",
          "Sep 28",
          "Oct 5",
          "Oct 12",
          "Oct 19",
          "Oct 26",
          "Nov 2",
          "Nov 9",
          "Nov 16",
          "Nov 23",
          "Nov 30",
          "Dec 7",
          "Dec 14",
          "Dec 21",
          "Dec 28",
          "Jan 4",
          "Jan 11",
          "Jan 18",
          "Jan 25",
          "Feb 1"
         ],
         "xaxis": "x",
         "y": [
          28.7,
          27.9,
          21.4,
          19.2,
          21.3,
          23.7,
          21.2,
          27.7,
          36.5,
          27.9,
          26.3,
          30.9,
          35.1,
          33.5,
          31.1,
          27.4,
          25.9,
          37.5,
          36,
          36,
          35,
          35.5
         ],
         "yaxis": "y"
        },
        {
         "line": {
          "color": "green",
          "width": 1
         },
         "name": "Bullish",
         "type": "scatter",
         "x": [
          "Sep 7",
          "Sep 14",
          "Sep 21",
          "Sep 28",
          "Oct 5",
          "Oct 12",
          "Oct 19",
          "Oct 26",
          "Nov 2",
          "Nov 9",
          "Nov 16",
          "Nov 23",
          "Nov 30",
          "Dec 7",
          "Dec 14",
          "Dec 21",
          "Dec 28",
          "Jan 4",
          "Jan 11",
          "Jan 18",
          "Jan 25",
          "Feb 1"
         ],
         "xaxis": "x",
         "y": [
          18.1,
          26.1,
          17.7,
          20,
          23.9,
          20.4,
          22.6,
          26.6,
          30.6,
          25.1,
          33.5,
          28.9,
          24.5,
          24.7,
          24.3,
          20.3,
          26.5,
          20.5,
          24,
          31,
          28.4,
          29.9
         ],
         "yaxis": "y"
        },
        {
         "line": {
          "color": "red",
          "width": 1
         },
         "name": "Bearish",
         "type": "scatter",
         "x": [
          "Sep 7",
          "Sep 14",
          "Sep 21",
          "Sep 28",
          "Oct 5",
          "Oct 12",
          "Oct 19",
          "Oct 26",
          "Nov 2",
          "Nov 9",
          "Nov 16",
          "Nov 23",
          "Nov 30",
          "Dec 7",
          "Dec 14",
          "Dec 21",
          "Dec 28",
          "Jan 4",
          "Jan 11",
          "Jan 18",
          "Jan 25",
          "Feb 1"
         ],
         "xaxis": "x",
         "y": [
          53.3,
          46,
          60.9,
          60.8,
          54.8,
          55.9,
          56.2,
          45.7,
          32.9,
          47,
          40.2,
          40.2,
          40.4,
          41.8,
          44.6,
          52.3,
          47.6,
          42,
          39.9,
          33.1,
          36.7,
          34.6
         ],
         "yaxis": "y"
        }
       ],
       "layout": {
        "autosize": false,
        "height": 400,
        "template": {
         "data": {
          "bar": [
           {
            "error_x": {
             "color": "#2a3f5f"
            },
            "error_y": {
             "color": "#2a3f5f"
            },
            "marker": {
             "line": {
              "color": "#E5ECF6",
              "width": 0.5
             },
             "pattern": {
              "fillmode": "overlay",
              "size": 10,
              "solidity": 0.2
             }
            },
            "type": "bar"
           }
          ],
          "barpolar": [
           {
            "marker": {
             "line": {
              "color": "#E5ECF6",
              "width": 0.5
             },
             "pattern": {
              "fillmode": "overlay",
              "size": 10,
              "solidity": 0.2
             }
            },
            "type": "barpolar"
           }
          ],
          "carpet": [
           {
            "aaxis": {
             "endlinecolor": "#2a3f5f",
             "gridcolor": "white",
             "linecolor": "white",
             "minorgridcolor": "white",
             "startlinecolor": "#2a3f5f"
            },
            "baxis": {
             "endlinecolor": "#2a3f5f",
             "gridcolor": "white",
             "linecolor": "white",
             "minorgridcolor": "white",
             "startlinecolor": "#2a3f5f"
            },
            "type": "carpet"
           }
          ],
          "choropleth": [
           {
            "colorbar": {
             "outlinewidth": 0,
             "ticks": ""
            },
            "type": "choropleth"
           }
          ],
          "contour": [
           {
            "colorbar": {
             "outlinewidth": 0,
             "ticks": ""
            },
            "colorscale": [
             [
              0,
              "#0d0887"
             ],
             [
              0.1111111111111111,
              "#46039f"
             ],
             [
              0.2222222222222222,
              "#7201a8"
             ],
             [
              0.3333333333333333,
              "#9c179e"
             ],
             [
              0.4444444444444444,
              "#bd3786"
             ],
             [
              0.5555555555555556,
              "#d8576b"
             ],
             [
              0.6666666666666666,
              "#ed7953"
             ],
             [
              0.7777777777777778,
              "#fb9f3a"
             ],
             [
              0.8888888888888888,
              "#fdca26"
             ],
             [
              1,
              "#f0f921"
             ]
            ],
            "type": "contour"
           }
          ],
          "contourcarpet": [
           {
            "colorbar": {
             "outlinewidth": 0,
             "ticks": ""
            },
            "type": "contourcarpet"
           }
          ],
          "heatmap": [
           {
            "colorbar": {
             "outlinewidth": 0,
             "ticks": ""
            },
            "colorscale": [
             [
              0,
              "#0d0887"
             ],
             [
              0.1111111111111111,
              "#46039f"
             ],
             [
              0.2222222222222222,
              "#7201a8"
             ],
             [
              0.3333333333333333,
              "#9c179e"
             ],
             [
              0.4444444444444444,
              "#bd3786"
             ],
             [
              0.5555555555555556,
              "#d8576b"
             ],
             [
              0.6666666666666666,
              "#ed7953"
             ],
             [
              0.7777777777777778,
              "#fb9f3a"
             ],
             [
              0.8888888888888888,
              "#fdca26"
             ],
             [
              1,
              "#f0f921"
             ]
            ],
            "type": "heatmap"
           }
          ],
          "heatmapgl": [
           {
            "colorbar": {
             "outlinewidth": 0,
             "ticks": ""
            },
            "colorscale": [
             [
              0,
              "#0d0887"
             ],
             [
              0.1111111111111111,
              "#46039f"
             ],
             [
              0.2222222222222222,
              "#7201a8"
             ],
             [
              0.3333333333333333,
              "#9c179e"
             ],
             [
              0.4444444444444444,
              "#bd3786"
             ],
             [
              0.5555555555555556,
              "#d8576b"
             ],
             [
              0.6666666666666666,
              "#ed7953"
             ],
             [
              0.7777777777777778,
              "#fb9f3a"
             ],
             [
              0.8888888888888888,
              "#fdca26"
             ],
             [
              1,
              "#f0f921"
             ]
            ],
            "type": "heatmapgl"
           }
          ],
          "histogram": [
           {
            "marker": {
             "pattern": {
              "fillmode": "overlay",
              "size": 10,
              "solidity": 0.2
             }
            },
            "type": "histogram"
           }
          ],
          "histogram2d": [
           {
            "colorbar": {
             "outlinewidth": 0,
             "ticks": ""
            },
            "colorscale": [
             [
              0,
              "#0d0887"
             ],
             [
              0.1111111111111111,
              "#46039f"
             ],
             [
              0.2222222222222222,
              "#7201a8"
             ],
             [
              0.3333333333333333,
              "#9c179e"
             ],
             [
              0.4444444444444444,
              "#bd3786"
             ],
             [
              0.5555555555555556,
              "#d8576b"
             ],
             [
              0.6666666666666666,
              "#ed7953"
             ],
             [
              0.7777777777777778,
              "#fb9f3a"
             ],
             [
              0.8888888888888888,
              "#fdca26"
             ],
             [
              1,
              "#f0f921"
             ]
            ],
            "type": "histogram2d"
           }
          ],
          "histogram2dcontour": [
           {
            "colorbar": {
             "outlinewidth": 0,
             "ticks": ""
            },
            "colorscale": [
             [
              0,
              "#0d0887"
             ],
             [
              0.1111111111111111,
              "#46039f"
             ],
             [
              0.2222222222222222,
              "#7201a8"
             ],
             [
              0.3333333333333333,
              "#9c179e"
             ],
             [
              0.4444444444444444,
              "#bd3786"
             ],
             [
              0.5555555555555556,
              "#d8576b"
             ],
             [
              0.6666666666666666,
              "#ed7953"
             ],
             [
              0.7777777777777778,
              "#fb9f3a"
             ],
             [
              0.8888888888888888,
              "#fdca26"
             ],
             [
              1,
              "#f0f921"
             ]
            ],
            "type": "histogram2dcontour"
           }
          ],
          "mesh3d": [
           {
            "colorbar": {
             "outlinewidth": 0,
             "ticks": ""
            },
            "type": "mesh3d"
           }
          ],
          "parcoords": [
           {
            "line": {
             "colorbar": {
              "outlinewidth": 0,
              "ticks": ""
             }
            },
            "type": "parcoords"
           }
          ],
          "pie": [
           {
            "automargin": true,
            "type": "pie"
           }
          ],
          "scatter": [
           {
            "fillpattern": {
             "fillmode": "overlay",
             "size": 10,
             "solidity": 0.2
            },
            "type": "scatter"
           }
          ],
          "scatter3d": [
           {
            "line": {
             "colorbar": {
              "outlinewidth": 0,
              "ticks": ""
             }
            },
            "marker": {
             "colorbar": {
              "outlinewidth": 0,
              "ticks": ""
             }
            },
            "type": "scatter3d"
           }
          ],
          "scattercarpet": [
           {
            "marker": {
             "colorbar": {
              "outlinewidth": 0,
              "ticks": ""
             }
            },
            "type": "scattercarpet"
           }
          ],
          "scattergeo": [
           {
            "marker": {
             "colorbar": {
              "outlinewidth": 0,
              "ticks": ""
             }
            },
            "type": "scattergeo"
           }
          ],
          "scattergl": [
           {
            "marker": {
             "colorbar": {
              "outlinewidth": 0,
              "ticks": ""
             }
            },
            "type": "scattergl"
           }
          ],
          "scattermapbox": [
           {
            "marker": {
             "colorbar": {
              "outlinewidth": 0,
              "ticks": ""
             }
            },
            "type": "scattermapbox"
           }
          ],
          "scatterpolar": [
           {
            "marker": {
             "colorbar": {
              "outlinewidth": 0,
              "ticks": ""
             }
            },
            "type": "scatterpolar"
           }
          ],
          "scatterpolargl": [
           {
            "marker": {
             "colorbar": {
              "outlinewidth": 0,
              "ticks": ""
             }
            },
            "type": "scatterpolargl"
           }
          ],
          "scatterternary": [
           {
            "marker": {
             "colorbar": {
              "outlinewidth": 0,
              "ticks": ""
             }
            },
            "type": "scatterternary"
           }
          ],
          "surface": [
           {
            "colorbar": {
             "outlinewidth": 0,
             "ticks": ""
            },
            "colorscale": [
             [
              0,
              "#0d0887"
             ],
             [
              0.1111111111111111,
              "#46039f"
             ],
             [
              0.2222222222222222,
              "#7201a8"
             ],
             [
              0.3333333333333333,
              "#9c179e"
             ],
             [
              0.4444444444444444,
              "#bd3786"
             ],
             [
              0.5555555555555556,
              "#d8576b"
             ],
             [
              0.6666666666666666,
              "#ed7953"
             ],
             [
              0.7777777777777778,
              "#fb9f3a"
             ],
             [
              0.8888888888888888,
              "#fdca26"
             ],
             [
              1,
              "#f0f921"
             ]
            ],
            "type": "surface"
           }
          ],
          "table": [
           {
            "cells": {
             "fill": {
              "color": "#EBF0F8"
             },
             "line": {
              "color": "white"
             }
            },
            "header": {
             "fill": {
              "color": "#C8D4E3"
             },
             "line": {
              "color": "white"
             }
            },
            "type": "table"
           }
          ]
         },
         "layout": {
          "annotationdefaults": {
           "arrowcolor": "#2a3f5f",
           "arrowhead": 0,
           "arrowwidth": 1
          },
          "autotypenumbers": "strict",
          "coloraxis": {
           "colorbar": {
            "outlinewidth": 0,
            "ticks": ""
           }
          },
          "colorscale": {
           "diverging": [
            [
             0,
             "#8e0152"
            ],
            [
             0.1,
             "#c51b7d"
            ],
            [
             0.2,
             "#de77ae"
            ],
            [
             0.3,
             "#f1b6da"
            ],
            [
             0.4,
             "#fde0ef"
            ],
            [
             0.5,
             "#f7f7f7"
            ],
            [
             0.6,
             "#e6f5d0"
            ],
            [
             0.7,
             "#b8e186"
            ],
            [
             0.8,
             "#7fbc41"
            ],
            [
             0.9,
             "#4d9221"
            ],
            [
             1,
             "#276419"
            ]
           ],
           "sequential": [
            [
             0,
             "#0d0887"
            ],
            [
             0.1111111111111111,
             "#46039f"
            ],
            [
             0.2222222222222222,
             "#7201a8"
            ],
            [
             0.3333333333333333,
             "#9c179e"
            ],
            [
             0.4444444444444444,
             "#bd3786"
            ],
            [
             0.5555555555555556,
             "#d8576b"
            ],
            [
             0.6666666666666666,
             "#ed7953"
            ],
            [
             0.7777777777777778,
             "#fb9f3a"
            ],
            [
             0.8888888888888888,
             "#fdca26"
            ],
            [
             1,
             "#f0f921"
            ]
           ],
           "sequentialminus": [
            [
             0,
             "#0d0887"
            ],
            [
             0.1111111111111111,
             "#46039f"
            ],
            [
             0.2222222222222222,
             "#7201a8"
            ],
            [
             0.3333333333333333,
             "#9c179e"
            ],
            [
             0.4444444444444444,
             "#bd3786"
            ],
            [
             0.5555555555555556,
             "#d8576b"
            ],
            [
             0.6666666666666666,
             "#ed7953"
            ],
            [
             0.7777777777777778,
             "#fb9f3a"
            ],
            [
             0.8888888888888888,
             "#fdca26"
            ],
            [
             1,
             "#f0f921"
            ]
           ]
          },
          "colorway": [
           "#636efa",
           "#EF553B",
           "#00cc96",
           "#ab63fa",
           "#FFA15A",
           "#19d3f3",
           "#FF6692",
           "#B6E880",
           "#FF97FF",
           "#FECB52"
          ],
          "font": {
           "color": "#2a3f5f"
          },
          "geo": {
           "bgcolor": "white",
           "lakecolor": "white",
           "landcolor": "#E5ECF6",
           "showlakes": true,
           "showland": true,
           "subunitcolor": "white"
          },
          "hoverlabel": {
           "align": "left"
          },
          "hovermode": "closest",
          "mapbox": {
           "style": "light"
          },
          "paper_bgcolor": "white",
          "plot_bgcolor": "#E5ECF6",
          "polar": {
           "angularaxis": {
            "gridcolor": "white",
            "linecolor": "white",
            "ticks": ""
           },
           "bgcolor": "#E5ECF6",
           "radialaxis": {
            "gridcolor": "white",
            "linecolor": "white",
            "ticks": ""
           }
          },
          "scene": {
           "xaxis": {
            "backgroundcolor": "#E5ECF6",
            "gridcolor": "white",
            "gridwidth": 2,
            "linecolor": "white",
            "showbackground": true,
            "ticks": "",
            "zerolinecolor": "white"
           },
           "yaxis": {
            "backgroundcolor": "#E5ECF6",
            "gridcolor": "white",
            "gridwidth": 2,
            "linecolor": "white",
            "showbackground": true,
            "ticks": "",
            "zerolinecolor": "white"
           },
           "zaxis": {
            "backgroundcolor": "#E5ECF6",
            "gridcolor": "white",
            "gridwidth": 2,
            "linecolor": "white",
            "showbackground": true,
            "ticks": "",
            "zerolinecolor": "white"
           }
          },
          "shapedefaults": {
           "line": {
            "color": "#2a3f5f"
           }
          },
          "ternary": {
           "aaxis": {
            "gridcolor": "white",
            "linecolor": "white",
            "ticks": ""
           },
           "baxis": {
            "gridcolor": "white",
            "linecolor": "white",
            "ticks": ""
           },
           "bgcolor": "#E5ECF6",
           "caxis": {
            "gridcolor": "white",
            "linecolor": "white",
            "ticks": ""
           }
          },
          "title": {
           "x": 0.05
          },
          "xaxis": {
           "automargin": true,
           "gridcolor": "white",
           "linecolor": "white",
           "ticks": "",
           "title": {
            "standoff": 15
           },
           "zerolinecolor": "white",
           "zerolinewidth": 2
          },
          "yaxis": {
           "automargin": true,
           "gridcolor": "white",
           "linecolor": "white",
           "ticks": "",
           "title": {
            "standoff": 15
           },
           "zerolinecolor": "white",
           "zerolinewidth": 2
          }
         }
        },
        "title": {
         "text": "AAII Sentiment Results",
         "x": 0.5
        },
        "width": 800,
        "xaxis": {
         "anchor": "y",
         "domain": [
          0,
          1
         ]
        },
        "yaxis": {
         "anchor": "x",
         "domain": [
          0,
          1
         ]
        }
       }
      }
     },
     "metadata": {},
     "output_type": "display_data"
    }
   ],
   "source": [
    "\n",
    "\n",
    "try:\n",
    "        \n",
    "    results_df = load_results_from_file()\n",
    "    #  On inverse l'odre des lignes\n",
    "    results_df = results_df[::-1]\n",
    "\n",
    "except :\n",
    "    \n",
    "    if results_df is None:\n",
    "        print('Fichier contenant les résultats non trouvé - import des résultats à partir du web')\n",
    "        #  import à partir du web\n",
    "        url = 'https://www.aaii.com/sentimentsurvey/sent_results'\n",
    "        html_text = retrieve_survey_results(url)\n",
    "        print(html_text)\n",
    "        #  Vérification de la protection anti-robots\n",
    "        if \"Incapsula incident ID\" in html_text:\n",
    "            print('Import bloqué par la protection robot - réessayer ultérieurement')\n",
    "        else:\n",
    "            #  Mise au format des résultats\n",
    "            results_df = process_results(html_text)\n",
    "            print(results_df)\n",
    "            #  Enregistrement des résultats dans un csv\n",
    "            results_df.to_csv('sentiment_results_survey.csv')\n",
    "    #results_df = results_df.loc[::-1].reset_index(drop=True).head()\n",
    "\n",
    "#  Graphique \n",
    "if results_df is not None:\n",
    "    plot_results(results_df)\n",
    "\n"
   ]
  },
  {
   "cell_type": "code",
   "execution_count": null,
   "id": "4b2a860e",
   "metadata": {},
   "outputs": [],
   "source": []
  },
  {
   "cell_type": "code",
   "execution_count": null,
   "id": "e4dff5ac",
   "metadata": {},
   "outputs": [],
   "source": []
  }
 ],
 "metadata": {
  "kernelspec": {
   "display_name": "base",
   "language": "python",
   "name": "python3"
  },
  "language_info": {
   "codemirror_mode": {
    "name": "ipython",
    "version": 3
   },
   "file_extension": ".py",
   "mimetype": "text/x-python",
   "name": "python",
   "nbconvert_exporter": "python",
   "pygments_lexer": "ipython3",
   "version": "3.9.7"
  },
  "vscode": {
   "interpreter": {
    "hash": "40d3a090f54c6569ab1632332b64b2c03c39dcf918b08424e98f38b5ae0af88f"
   }
  }
 },
 "nbformat": 4,
 "nbformat_minor": 5
}
